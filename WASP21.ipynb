{
 "cells": [
  {
   "cell_type": "code",
   "execution_count": 5,
   "metadata": {
    "collapsed": true
   },
   "outputs": [],
   "source": [
    "from math import sqrt, pow, pi\n",
    "import matplotlib.pyplot as plt\n",
    "import numpy as np\n",
    "%matplotlib inline"
   ]
  },
  {
   "cell_type": "markdown",
   "metadata": {},
   "source": [
    "## References\n",
    "* Cumming, A., Marcy, G. W., & Butler, R. P. 1999, ApJ, 526, 890\n",
    "* Kasting, J. F., Whitmire, D. P., & Reynolds, R. T. 1993, Icarus, 101, 108\n",
    "* Perryman, M. 2011, The Exoplanet Handbook, Cambridge University Press, New York; ISBN: 0521765595"
   ]
  },
  {
   "cell_type": "code",
   "execution_count": 25,
   "metadata": {},
   "outputs": [],
   "source": [
    "# Kepler-20b values\n",
    "# M☉ = (1.98855±0.00025)×10^30 kg mass of Sol\n",
    "#constants\n",
    "solrad = 0.00465047 # Sol radius in au\n",
    "juprad = 0.000477895 # Jupiter radius in au\n",
    "\n",
    "# inputs\n",
    "d = 242 # distance in parsecs to stellar body - ps = 648000 au / 𝛑\n",
    "msun = 1.01 # msun in sol unit\n",
    "srad = 1.06 # stellar radius in sol unit\n",
    "teff = 5800  # effective stellar temp in k\n",
    "a = .05211  # semi major axis of orbit in au\n",
    "msini = 0.3 # mass of planet in jupiter units\n",
    "prad = 1.07 # planetary radius in jupiter units\n",
    "e = .5 # eccentricity\n",
    "\n",
    "# given (note period and angv can be calculated as below section shows)\n",
    "period = 4.322482 # period in earth days (365.25 per year)\n",
    "wgamma = 90 # degs from ascending node to periapsis\n",
    "radv = 37.2 # radial velocity m/s semiamplitude\n",
    "\n",
    "# derived - source https://exoplanetarchive.ipac.caltech.edu/docs/poet_calculations.html\n",
    "orbital_period_years = sqrt(pow(a,3)*(1/msun))\n",
    "orbital_period_days = orbital_period_years * 365.25\n",
    "b = a*sqrt(1-e*e) # semi minor axis in au\n",
    "rp = a*(1-e) # radius of periapsis in au\n",
    "ra = a*(1+e) # radius of apoasis in au\n",
    "c = e * a\n",
    "lum = pow(srad,2)*pow(teff/5777,4) # stellar luminosity in sol unit\n",
    "\n",
    "# habital zones in au\n",
    "rhabinner = .75 * sqrt(lum)\n",
    "rhabcenter = sqrt(lum)\n",
    "rhabouter = 1.77 * sqrt(lum)\n",
    "# Astrometric semi-amplitude in au \n",
    "astamp = 954.3 * (msini/msun) * (a/d)\n",
    "# transit depth as % of ratio projected planet area to sun area\n",
    "tdepth = 1.049 * pow(prad/srad,2) if prad<srad else 100\n"
   ]
  },
  {
   "cell_type": "code",
   "execution_count": 26,
   "metadata": {},
   "outputs": [
    {
     "data": {
      "text/plain": [
       "100"
      ]
     },
     "execution_count": 26,
     "metadata": {},
     "output_type": "execute_result"
    }
   ],
   "source": [
    "tdepth"
   ]
  },
  {
   "cell_type": "code",
   "execution_count": 27,
   "metadata": {},
   "outputs": [
    {
     "data": {
      "text/plain": [
       "0.061036625071598065"
      ]
     },
     "execution_count": 27,
     "metadata": {},
     "output_type": "execute_result"
    }
   ],
   "source": [
    "astamp"
   ]
  },
  {
   "cell_type": "code",
   "execution_count": 28,
   "metadata": {},
   "outputs": [
    {
     "data": {
      "text/plain": [
       "0.026055"
      ]
     },
     "execution_count": 28,
     "metadata": {},
     "output_type": "execute_result"
    }
   ],
   "source": [
    "rp"
   ]
  },
  {
   "cell_type": "code",
   "execution_count": 29,
   "metadata": {},
   "outputs": [
    {
     "data": {
      "text/plain": [
       "0.078165"
      ]
     },
     "execution_count": 29,
     "metadata": {},
     "output_type": "execute_result"
    }
   ],
   "source": [
    "ra"
   ]
  },
  {
   "cell_type": "code",
   "execution_count": 30,
   "metadata": {},
   "outputs": [
    {
     "data": {
      "text/plain": [
       "0.801342876608125"
      ]
     },
     "execution_count": 30,
     "metadata": {},
     "output_type": "execute_result"
    }
   ],
   "source": [
    "rhabinner"
   ]
  },
  {
   "cell_type": "code",
   "execution_count": 31,
   "metadata": {},
   "outputs": [
    {
     "data": {
      "text/plain": [
       "0.011836435145827738"
      ]
     },
     "execution_count": 31,
     "metadata": {},
     "output_type": "execute_result"
    }
   ],
   "source": [
    "orbital_period_years"
   ]
  },
  {
   "cell_type": "code",
   "execution_count": 32,
   "metadata": {},
   "outputs": [
    {
     "data": {
      "text/plain": [
       "4.323257937013581"
      ]
     },
     "execution_count": 32,
     "metadata": {},
     "output_type": "execute_result"
    }
   ],
   "source": [
    "orbital_period_days"
   ]
  },
  {
   "cell_type": "code",
   "execution_count": 14,
   "metadata": {
    "collapsed": true
   },
   "outputs": [],
   "source": [
    "t1 = 203*pow(orbital_period_days,-1.0/3.0)"
   ]
  },
  {
   "cell_type": "code",
   "execution_count": 15,
   "metadata": {
    "collapsed": true
   },
   "outputs": [],
   "source": [
    "t2 = msini / pow(msun+9.548e-4*msini,2.0/3.0)"
   ]
  },
  {
   "cell_type": "code",
   "execution_count": 16,
   "metadata": {
    "collapsed": true
   },
   "outputs": [],
   "source": [
    "t3 = 1/sqrt(1-e*e)"
   ]
  },
  {
   "cell_type": "code",
   "execution_count": 17,
   "metadata": {},
   "outputs": [
    {
     "data": {
      "text/plain": [
       "85.18054746983191"
      ]
     },
     "execution_count": 17,
     "metadata": {},
     "output_type": "execute_result"
    }
   ],
   "source": [
    "radial_velocity_semiamp_mpersec = t1*t2*t3\n",
    "radial_velocity_semiamp_mpersec"
   ]
  },
  {
   "cell_type": "code",
   "execution_count": 18,
   "metadata": {
    "collapsed": true
   },
   "outputs": [],
   "source": [
    "t = np.arange(0,2*pi+(2*pi/90),2*pi/90)"
   ]
  },
  {
   "cell_type": "code",
   "execution_count": 19,
   "metadata": {
    "collapsed": true
   },
   "outputs": [],
   "source": [
    "x = a*np.cos(t)"
   ]
  },
  {
   "cell_type": "code",
   "execution_count": 20,
   "metadata": {
    "collapsed": true
   },
   "outputs": [],
   "source": [
    "y = b*np.sin(t)"
   ]
  },
  {
   "cell_type": "code",
   "execution_count": 21,
   "metadata": {
    "collapsed": true
   },
   "outputs": [],
   "source": [
    "from matplotlib.patches import Circle"
   ]
  },
  {
   "cell_type": "code",
   "execution_count": 22,
   "metadata": {},
   "outputs": [
    {
     "data": {
      "image/png": "[encoded data removed]",
      "text/plain": [
       "<matplotlib.figure.Figure at 0x114a58da0>"
      ]
     },
     "metadata": {},
     "output_type": "display_data"
    }
   ],
   "source": [
    "plt.figure(figsize=(5,5))\n",
    "plt.axes().set_aspect('equal')\n",
    "#plt.ylim(-rhabinner,rhabinner)\n",
    "#plt.xlim(-rhabinner,rhabinner)\n",
    "plt.xlabel(\"Major Axis (au)\")\n",
    "plt.ylabel(\"Minor Axis (au)\")\n",
    "plt.plot(x,y,lw=.2,color='b')\n",
    "sun = Circle((c,0),srad*solrad)\n",
    "sun.set_color('y')\n",
    "planet = Circle((c+rp,0),prad*juprad)\n",
    "planet.set_color('r')\n",
    "plt.axes().add_artist(sun)\n",
    "plt.axes().add_artist(planet)\n",
    "plt.show();\n"
   ]
  },
  {
   "cell_type": "code",
   "execution_count": null,
   "metadata": {
    "collapsed": true
   },
   "outputs": [],
   "source": []
  },
  {
   "cell_type": "code",
   "execution_count": null,
   "metadata": {
    "collapsed": true
   },
   "outputs": [],
   "source": []
  }
 ],
 "metadata": {
  "kernelspec": {
   "display_name": "Python 3",
   "language": "python",
   "name": "python3"
  },
  "language_info": {
   "codemirror_mode": {
    "name": "ipython",
    "version": 3
   },
   "file_extension": ".py",
   "mimetype": "text/x-python",
   "name": "python",
   "nbconvert_exporter": "python",
   "pygments_lexer": "ipython3",
   "version": "3.6.2"
  }
 },
 "nbformat": 4,
 "nbformat_minor": 2
}
